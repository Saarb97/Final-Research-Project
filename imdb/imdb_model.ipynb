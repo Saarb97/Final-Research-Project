{
 "cells": [
  {
   "cell_type": "code",
   "execution_count": 1,
   "id": "initial_id",
   "metadata": {
    "ExecuteTime": {
     "end_time": "2025-03-23T14:35:07.866264Z",
     "start_time": "2025-03-23T14:35:05.479346Z"
    }
   },
   "outputs": [
    {
     "data": {
      "text/html": [
       "<div>\n",
       "<style scoped>\n",
       "    .dataframe tbody tr th:only-of-type {\n",
       "        vertical-align: middle;\n",
       "    }\n",
       "\n",
       "    .dataframe tbody tr th {\n",
       "        vertical-align: top;\n",
       "    }\n",
       "\n",
       "    .dataframe thead th {\n",
       "        text-align: right;\n",
       "    }\n",
       "</style>\n",
       "<table border=\"1\" class=\"dataframe\">\n",
       "  <thead>\n",
       "    <tr style=\"text-align: right;\">\n",
       "      <th></th>\n",
       "      <th>review</th>\n",
       "      <th>sentiment</th>\n",
       "    </tr>\n",
       "  </thead>\n",
       "  <tbody>\n",
       "    <tr>\n",
       "      <th>0</th>\n",
       "      <td>One of the other reviewers has mentioned that ...</td>\n",
       "      <td>positive</td>\n",
       "    </tr>\n",
       "    <tr>\n",
       "      <th>1</th>\n",
       "      <td>A wonderful little production. &lt;br /&gt;&lt;br /&gt;The...</td>\n",
       "      <td>positive</td>\n",
       "    </tr>\n",
       "    <tr>\n",
       "      <th>2</th>\n",
       "      <td>I thought this was a wonderful way to spend ti...</td>\n",
       "      <td>positive</td>\n",
       "    </tr>\n",
       "    <tr>\n",
       "      <th>3</th>\n",
       "      <td>Basically there's a family where a little boy ...</td>\n",
       "      <td>negative</td>\n",
       "    </tr>\n",
       "    <tr>\n",
       "      <th>4</th>\n",
       "      <td>Petter Mattei's \"Love in the Time of Money\" is...</td>\n",
       "      <td>positive</td>\n",
       "    </tr>\n",
       "    <tr>\n",
       "      <th>...</th>\n",
       "      <td>...</td>\n",
       "      <td>...</td>\n",
       "    </tr>\n",
       "    <tr>\n",
       "      <th>49995</th>\n",
       "      <td>I thought this movie did a down right good job...</td>\n",
       "      <td>positive</td>\n",
       "    </tr>\n",
       "    <tr>\n",
       "      <th>49996</th>\n",
       "      <td>Bad plot, bad dialogue, bad acting, idiotic di...</td>\n",
       "      <td>negative</td>\n",
       "    </tr>\n",
       "    <tr>\n",
       "      <th>49997</th>\n",
       "      <td>I am a Catholic taught in parochial elementary...</td>\n",
       "      <td>negative</td>\n",
       "    </tr>\n",
       "    <tr>\n",
       "      <th>49998</th>\n",
       "      <td>I'm going to have to disagree with the previou...</td>\n",
       "      <td>negative</td>\n",
       "    </tr>\n",
       "    <tr>\n",
       "      <th>49999</th>\n",
       "      <td>No one expects the Star Trek movies to be high...</td>\n",
       "      <td>negative</td>\n",
       "    </tr>\n",
       "  </tbody>\n",
       "</table>\n",
       "<p>50000 rows × 2 columns</p>\n",
       "</div>"
      ],
      "text/plain": [
       "                                                  review sentiment\n",
       "0      One of the other reviewers has mentioned that ...  positive\n",
       "1      A wonderful little production. <br /><br />The...  positive\n",
       "2      I thought this was a wonderful way to spend ti...  positive\n",
       "3      Basically there's a family where a little boy ...  negative\n",
       "4      Petter Mattei's \"Love in the Time of Money\" is...  positive\n",
       "...                                                  ...       ...\n",
       "49995  I thought this movie did a down right good job...  positive\n",
       "49996  Bad plot, bad dialogue, bad acting, idiotic di...  negative\n",
       "49997  I am a Catholic taught in parochial elementary...  negative\n",
       "49998  I'm going to have to disagree with the previou...  negative\n",
       "49999  No one expects the Star Trek movies to be high...  negative\n",
       "\n",
       "[50000 rows x 2 columns]"
      ]
     },
     "execution_count": 1,
     "metadata": {},
     "output_type": "execute_result"
    }
   ],
   "source": [
    "# Taken from https://www.kaggle.com/code/suvroo/complete-nlp-pipeline#RoPE-(Robust-Positional-Embeddings)\n",
    "\n",
    "from sklearn.feature_extraction.text import CountVectorizer\n",
    "import numpy as np\n",
    "import pandas as pd\n",
    "from sklearn.metrics import accuracy_score,confusion_matrix\n",
    "import re\n",
    "from nltk.corpus import stopwords\n",
    "from sklearn.preprocessing import LabelEncoder\n",
    "from sklearn.model_selection import train_test_split\n",
    "\n",
    "\n",
    "df = pd.read_csv('IMDB Dataset.csv')\n",
    "df"
   ]
  },
  {
   "cell_type": "code",
   "execution_count": 2,
   "id": "5bb0ff8048fd6bf",
   "metadata": {
    "ExecuteTime": {
     "end_time": "2025-03-23T14:35:08.036073Z",
     "start_time": "2025-03-23T14:35:07.867263Z"
    }
   },
   "outputs": [
    {
     "data": {
      "text/plain": [
       "418"
      ]
     },
     "execution_count": 2,
     "metadata": {},
     "output_type": "execute_result"
    }
   ],
   "source": [
    "df.duplicated().sum()"
   ]
  },
  {
   "cell_type": "code",
   "execution_count": 3,
   "id": "5a3902ab383d2552",
   "metadata": {
    "ExecuteTime": {
     "end_time": "2025-03-23T14:35:08.183929Z",
     "start_time": "2025-03-23T14:35:08.037071Z"
    }
   },
   "outputs": [],
   "source": [
    "df.drop_duplicates(inplace=True)"
   ]
  },
  {
   "cell_type": "code",
   "execution_count": 4,
   "id": "187868f7-2737-42bb-aff3-73870302c7fc",
   "metadata": {},
   "outputs": [
    {
     "name": "stderr",
     "output_type": "stream",
     "text": [
      "[nltk_data] Downloading package stopwords to /home/saarbu/nltk_data...\n",
      "[nltk_data]   Package stopwords is already up-to-date!\n"
     ]
    },
    {
     "data": {
      "text/plain": [
       "True"
      ]
     },
     "execution_count": 4,
     "metadata": {},
     "output_type": "execute_result"
    }
   ],
   "source": [
    "import nltk\n",
    "nltk.download('stopwords')"
   ]
  },
  {
   "cell_type": "code",
   "execution_count": 5,
   "id": "b343760d5e31fd92",
   "metadata": {
    "ExecuteTime": {
     "end_time": "2025-03-23T14:35:26.006023Z",
     "start_time": "2025-03-23T14:35:08.184929Z"
    }
   },
   "outputs": [],
   "source": [
    "\n",
    "def remove_tags(raw_text):\n",
    "    cleaned_text = re.sub(re.compile('<.*?>'), '', raw_text)\n",
    "    return cleaned_text\n",
    "df['review'] = df['review'].apply(remove_tags)\n",
    "df_post_tags = df.copy()\n",
    "\n",
    "sw_list = stopwords.words('english')\n",
    "df['review'] = df['review'].apply(lambda x: [item for item in x.split() if item not in sw_list]).apply(lambda x:\" \".join(x))\n",
    "\n",
    "df['review'] = df['review'].apply(lambda x:x.lower())"
   ]
  },
  {
   "cell_type": "code",
   "execution_count": 6,
   "id": "de5388ca9a004113",
   "metadata": {
    "ExecuteTime": {
     "end_time": "2025-03-17T15:03:09.601289Z",
     "start_time": "2025-03-17T15:03:09.598665Z"
    }
   },
   "outputs": [],
   "source": [
    "# df = df.sample(1000)"
   ]
  },
  {
   "cell_type": "code",
   "execution_count": 7,
   "id": "782ca0671b297358",
   "metadata": {
    "ExecuteTime": {
     "end_time": "2025-03-17T15:03:09.610288Z",
     "start_time": "2025-03-17T15:03:09.603287Z"
    }
   },
   "outputs": [],
   "source": [
    "X = df.iloc[:,0:1]\n",
    "y = df['sentiment']"
   ]
  },
  {
   "cell_type": "code",
   "execution_count": 8,
   "id": "b4ea20e5bf6fce35",
   "metadata": {
    "ExecuteTime": {
     "end_time": "2025-03-17T15:03:09.622561Z",
     "start_time": "2025-03-17T15:03:09.611256Z"
    }
   },
   "outputs": [],
   "source": [
    "encoder = LabelEncoder()\n",
    "y = encoder.fit_transform(y)"
   ]
  },
  {
   "cell_type": "code",
   "execution_count": 9,
   "id": "8cd3fa113df20f9c",
   "metadata": {
    "ExecuteTime": {
     "end_time": "2025-03-17T15:03:09.641139Z",
     "start_time": "2025-03-17T15:03:09.624567Z"
    }
   },
   "outputs": [],
   "source": [
    "# X_train,X_test,y_train,y_test = train_test_split(X,y,test_size=0.2,random_state=1)\n",
    "# X_train.shape"
   ]
  },
  {
   "cell_type": "code",
   "execution_count": 10,
   "id": "2ce09f4faf46c25b",
   "metadata": {
    "ExecuteTime": {
     "end_time": "2025-03-17T15:03:19.827178Z",
     "start_time": "2025-03-17T15:03:09.642107Z"
    }
   },
   "outputs": [],
   "source": [
    "# # Applying BoW\n",
    "# cv = CountVectorizer()\n",
    "# X_train_bow = cv.fit_transform(X_train['review'])\n",
    "# X_test_bow = cv.transform(X_test['review'])\n",
    "\n",
    "# X_train_bow.shape"
   ]
  },
  {
   "cell_type": "code",
   "execution_count": 11,
   "id": "9ec19eb7095bb88c",
   "metadata": {
    "ExecuteTime": {
     "end_time": "2025-03-17T15:03:19.831493Z",
     "start_time": "2025-03-17T15:03:19.828208Z"
    }
   },
   "outputs": [],
   "source": [
    "# from sklearn.ensemble import RandomForestClassifier\n",
    "# rf = RandomForestClassifier()\n",
    "\n",
    "# rf.fit(X_train_bow,y_train)\n",
    "# y_pred = rf.predict(X_test_bow)\n",
    "# accuracy_score(y_test,y_pred)"
   ]
  },
  {
   "cell_type": "code",
   "execution_count": 12,
   "id": "4cb2111860bbf86e",
   "metadata": {
    "ExecuteTime": {
     "end_time": "2025-03-17T15:03:19.839493Z",
     "start_time": "2025-03-17T15:03:19.832493Z"
    }
   },
   "outputs": [],
   "source": [
    "# X_train_bow"
   ]
  },
  {
   "cell_type": "code",
   "execution_count": 13,
   "id": "71769cb6581cc87f",
   "metadata": {
    "ExecuteTime": {
     "end_time": "2025-03-17T15:10:52.533061Z",
     "start_time": "2025-03-17T15:03:19.841494Z"
    },
    "editable": true,
    "slideshow": {
     "slide_type": ""
    },
    "tags": []
   },
   "outputs": [],
   "source": [
    "# import optuna\n",
    "# import numpy as np\n",
    "# import xgboost as xgb\n",
    "# from sklearn.model_selection import RepeatedKFold\n",
    "\n",
    "# from sklearn.metrics import roc_auc_score\n",
    "\n",
    "# import xgboost as xgb\n",
    "# import numpy as np\n",
    "# from sklearn.metrics import roc_auc_score\n",
    "# from sklearn.model_selection import train_test_split\n",
    "\n",
    "# from sklearn.model_selection import StratifiedKFold\n",
    "\n",
    "# def objective(trial):\n",
    "#     params = {\n",
    "#         'n_estimators': trial.suggest_int('n_estimators', 50, 1000, step=50),\n",
    "#         \"eta\": trial.suggest_float(\"eta\", 0.01, 0.3, log=True),\n",
    "#         \"max_depth\": trial.suggest_int(\"max_depth\", 3, 20),\n",
    "#         \"subsample\": trial.suggest_float(\"subsample\", 0.5, 1.0),\n",
    "#         \"colsample_bytree\": trial.suggest_float(\"colsample_bytree\", 0.5, 1.0),\n",
    "#         \"lambda\": trial.suggest_float(\"lambda\", 1e-3, 10.0, log=True),\n",
    "#         \"alpha\": trial.suggest_float(\"alpha\", 1e-3, 10.0, log=True),\n",
    "#         \"min_child_weight\": trial.suggest_int(\"min_child_weight\", 1, 10),\n",
    "#         \"gamma\": trial.suggest_float(\"gamma\", 0, 5),\n",
    "#         \"objective\": \"binary:logistic\",\n",
    "#         \"eval_metric\": \"auc\",\n",
    "#         \"verbosity\": 0,\n",
    "#         \"tree_method\": \"hist\",\n",
    "#         \"device\": \"cuda\"\n",
    "#     }\n",
    "\n",
    "#     cv = StratifiedKFold(n_splits=5, shuffle=True, random_state=42)\n",
    "#     aucs = []\n",
    "\n",
    "#     for train_idx, val_idx in cv.split(X_train_bow, y_train):\n",
    "#         X_tr, X_val = X_train_bow[train_idx], X_train_bow[val_idx]\n",
    "#         y_tr, y_val = y_train[train_idx], y_train[val_idx]\n",
    "\n",
    "#         dtrain = xgb.DMatrix(X_tr, label=y_tr)\n",
    "#         dvalid = xgb.DMatrix(X_val, label=y_val)\n",
    "\n",
    "#         model = xgb.train(\n",
    "#             params=params,\n",
    "#             dtrain=dtrain,\n",
    "#             evals=[(dvalid, \"eval\")],\n",
    "#             early_stopping_rounds=30,\n",
    "#             verbose_eval=False\n",
    "#         )\n",
    "\n",
    "#         preds = model.predict(dvalid, iteration_range=(0, model.best_iteration))\n",
    "#         auc = roc_auc_score(y_val, preds)\n",
    "#         aucs.append(auc)\n",
    "\n",
    "#     return np.mean(aucs)\n",
    "\n",
    "\n",
    "# # Run Optuna optimization\n",
    "# pruner = optuna.pruners.HyperbandPruner()\n",
    "# study = optuna.create_study(direction=\"maximize\",pruner=pruner)\n",
    "\n",
    "# # Define baseline trial as a fixed parameter suggestion\n",
    "# baseline_params = {\n",
    "#     'n_estimators': 550,\n",
    "#     'eta': 0.29983309207957676,\n",
    "#     'max_depth': 19,\n",
    "#     'subsample': 0.9888438323886279,\n",
    "#     'colsample_bytree': 0.6889387283870231,\n",
    "#     'lambda': 1.0481576423947685,\n",
    "#     'alpha': 0.023164905855125376,\n",
    "#     'min_child_weight': 10,\n",
    "#     'gamma': 3.4009242038001064,\n",
    "# }\n",
    "\n",
    "# # Add the trial to the queue to run\n",
    "# study.enqueue_trial(baseline_params)\n",
    "\n",
    "# study.optimize(objective,timeout=3600)\n",
    "\n",
    "# # Best hyperparameters found\n",
    "# best_params = study.best_params\n",
    "# print(f\"\\n🔹 Best Hyperparameters:\\n{best_params}\")\n",
    "\n",
    "# # Train final model with best hyperparameters on GPU\n",
    "# best_params[\"tree_method\"] = \"gpu_hist\"\n",
    "# best_params[\"device\"] = \"cuda\"\n",
    "\n",
    "# dtrain_cv = xgb.DMatrix(X_train_bow, label=y_train)\n",
    "# final_model = xgb.train(\n",
    "#     params=best_params,\n",
    "#     dtrain=dtrain_cv,\n",
    "# )\n",
    "\n",
    "# # Evaluate on Hold-Out Validation Set\n",
    "# dvalid = xgb.DMatrix(X_test_bow, label=y_test)\n",
    "# test_preds = final_model.predict(dvalid)\n",
    "\n",
    "# # Convert probabilities to binary labels\n",
    "# pred_labels = (test_preds > 0.5).astype(int)\n",
    "\n",
    "# accuracy_score(y_test,pred_labels)\n",
    "\n",
    "\n",
    "# {'n_estimators': 300, 'eta': 0.29945643753119816, 'max_depth': 20, 'subsample': 0.8783578562355324, 'colsample_bytree': 0.7338100018725511, 'lambda': 0.03509555712821362, 'alpha': 0.0029994420277393804, 'min_child_weight': 10, 'gamma': 2.7368297453515065}"
   ]
  },
  {
   "cell_type": "code",
   "execution_count": 14,
   "id": "f6a9421a-66a3-454b-bca2-5f56506aba9a",
   "metadata": {},
   "outputs": [],
   "source": [
    "# # Evaluate on Hold-Out Validation Set\n",
    "# dvalid = xgb.DMatrix(X_test_bow, label=y_test)\n",
    "# test_preds = final_model.predict(dvalid)\n",
    "\n",
    "\n",
    "# accuracy_score(y_test,pred_labels)"
   ]
  },
  {
   "cell_type": "code",
   "execution_count": null,
   "id": "549ba5c7-6d3f-4c7f-bca7-7f9cdb5614f1",
   "metadata": {},
   "outputs": [],
   "source": []
  },
  {
   "cell_type": "code",
   "execution_count": 15,
   "id": "e9bc58c042135d9d",
   "metadata": {
    "ExecuteTime": {
     "start_time": "2025-03-23T14:38:34.247390Z"
    },
    "editable": true,
    "jupyter": {
     "is_executing": true
    },
    "slideshow": {
     "slide_type": ""
    },
    "tags": []
   },
   "outputs": [
    {
     "name": "stdout",
     "output_type": "stream",
     "text": [
      "Using device: cuda\n",
      "\n",
      "Training with 100 samples...\n",
      "Epoch 1 | Train Loss: 0.7118 | Val Loss: 0.6018 | Val Accuracy: 0.7100\n",
      "Epoch 2 | Train Loss: 0.5405 | Val Loss: 0.4960 | Val Accuracy: 0.8195\n",
      "Epoch 3 | Train Loss: 0.4383 | Val Loss: 0.4343 | Val Accuracy: 0.8369\n",
      "\n",
      "Training with 250 samples...\n",
      "Epoch 1 | Train Loss: 0.6227 | Val Loss: 0.4649 | Val Accuracy: 0.8215\n",
      "Epoch 2 | Train Loss: 0.4071 | Val Loss: 0.3835 | Val Accuracy: 0.8413\n",
      "Epoch 3 | Train Loss: 0.2533 | Val Loss: 0.3754 | Val Accuracy: 0.8334\n",
      "\n",
      "Training with 500 samples...\n",
      "Epoch 1 | Train Loss: 0.5482 | Val Loss: 0.3808 | Val Accuracy: 0.8411\n",
      "Epoch 2 | Train Loss: 0.2850 | Val Loss: 0.3527 | Val Accuracy: 0.8518\n",
      "Epoch 3 | Train Loss: 0.2021 | Val Loss: 0.3890 | Val Accuracy: 0.8473\n",
      "\n",
      "Training with 1000 samples...\n",
      "Epoch 1 | Train Loss: 0.4364 | Val Loss: 0.3427 | Val Accuracy: 0.8550\n",
      "Epoch 2 | Train Loss: 0.2231 | Val Loss: 0.3575 | Val Accuracy: 0.8554\n",
      "Epoch 3 | Train Loss: 0.1492 | Val Loss: 0.3548 | Val Accuracy: 0.8685\n",
      "\n",
      "Training with 2500 samples...\n",
      "Epoch 1 | Train Loss: 0.3701 | Val Loss: 0.3152 | Val Accuracy: 0.8691\n",
      "Epoch 2 | Train Loss: 0.1801 | Val Loss: 0.3651 | Val Accuracy: 0.8661\n",
      "Epoch 3 | Train Loss: 0.0917 | Val Loss: 0.4024 | Val Accuracy: 0.8719\n",
      "\n",
      "Training with 5000 samples...\n",
      "Epoch 1 | Train Loss: 0.3402 | Val Loss: 0.2811 | Val Accuracy: 0.8806\n",
      "Epoch 2 | Train Loss: 0.1942 | Val Loss: 0.2854 | Val Accuracy: 0.8800\n",
      "Epoch 3 | Train Loss: 0.1179 | Val Loss: 0.3244 | Val Accuracy: 0.8826\n",
      "\n",
      "Training with 10000 samples...\n",
      "Epoch 1 | Train Loss: 0.3083 | Val Loss: 0.2571 | Val Accuracy: 0.8957\n",
      "Epoch 2 | Train Loss: 0.1832 | Val Loss: 0.2617 | Val Accuracy: 0.8955\n",
      "Epoch 3 | Train Loss: 0.1086 | Val Loss: 0.3163 | Val Accuracy: 0.9002\n",
      "\n",
      "Training with 25000 samples...\n",
      "Epoch 1 | Train Loss: 0.2705 | Val Loss: 0.2484 | Val Accuracy: 0.9089\n",
      "Epoch 2 | Train Loss: 0.1712 | Val Loss: 0.2185 | Val Accuracy: 0.9187\n",
      "Epoch 3 | Train Loss: 0.1090 | Val Loss: 0.2654 | Val Accuracy: 0.9101\n",
      "\n",
      "Final Results:\n",
      "Training Size: 100\n",
      "  Epoch 1 - Val Loss: 0.6018, Val Accuracy: 0.7100\n",
      "  Epoch 2 - Val Loss: 0.4960, Val Accuracy: 0.8195\n",
      "  Epoch 3 - Val Loss: 0.4343, Val Accuracy: 0.8369\n",
      "Training Size: 250\n",
      "  Epoch 1 - Val Loss: 0.4649, Val Accuracy: 0.8215\n",
      "  Epoch 2 - Val Loss: 0.3835, Val Accuracy: 0.8413\n",
      "  Epoch 3 - Val Loss: 0.3754, Val Accuracy: 0.8334\n",
      "Training Size: 500\n",
      "  Epoch 1 - Val Loss: 0.3808, Val Accuracy: 0.8411\n",
      "  Epoch 2 - Val Loss: 0.3527, Val Accuracy: 0.8518\n",
      "  Epoch 3 - Val Loss: 0.3890, Val Accuracy: 0.8473\n",
      "Training Size: 1000\n",
      "  Epoch 1 - Val Loss: 0.3427, Val Accuracy: 0.8550\n",
      "  Epoch 2 - Val Loss: 0.3575, Val Accuracy: 0.8554\n",
      "  Epoch 3 - Val Loss: 0.3548, Val Accuracy: 0.8685\n",
      "Training Size: 2500\n",
      "  Epoch 1 - Val Loss: 0.3152, Val Accuracy: 0.8691\n",
      "  Epoch 2 - Val Loss: 0.3651, Val Accuracy: 0.8661\n",
      "  Epoch 3 - Val Loss: 0.4024, Val Accuracy: 0.8719\n",
      "Training Size: 5000\n",
      "  Epoch 1 - Val Loss: 0.2811, Val Accuracy: 0.8806\n",
      "  Epoch 2 - Val Loss: 0.2854, Val Accuracy: 0.8800\n",
      "  Epoch 3 - Val Loss: 0.3244, Val Accuracy: 0.8826\n",
      "Training Size: 10000\n",
      "  Epoch 1 - Val Loss: 0.2571, Val Accuracy: 0.8957\n",
      "  Epoch 2 - Val Loss: 0.2617, Val Accuracy: 0.8955\n",
      "  Epoch 3 - Val Loss: 0.3163, Val Accuracy: 0.9002\n",
      "Training Size: 25000\n",
      "  Epoch 1 - Val Loss: 0.2484, Val Accuracy: 0.9089\n",
      "  Epoch 2 - Val Loss: 0.2185, Val Accuracy: 0.9187\n",
      "  Epoch 3 - Val Loss: 0.2654, Val Accuracy: 0.9101\n"
     ]
    },
    {
     "data": {
      "image/png": "[encoded data removed]",
      "text/plain": [
       "<Figure size 1200x500 with 2 Axes>"
      ]
     },
     "metadata": {},
     "output_type": "display_data"
    }
   ],
   "source": [
    "from transformers import AutoTokenizer, AutoModel\n",
    "import torch\n",
    "import torch.nn as nn\n",
    "import pandas as pd\n",
    "from torch.utils.data import Dataset, DataLoader\n",
    "from sklearn.model_selection import train_test_split\n",
    "import copy\n",
    "import matplotlib.pyplot as plt\n",
    "\n",
    "# Define the model name\n",
    "model_name = \"tabularisai/multilingual-sentiment-analysis\"\n",
    "\n",
    "# Load the tokenizer\n",
    "tokenizer = AutoTokenizer.from_pretrained(model_name)\n",
    "\n",
    "# Load the base model\n",
    "base_model = AutoModel.from_pretrained(model_name)\n",
    "\n",
    "# Check if a GPU is available and set the device\n",
    "device = torch.device(\"cuda\" if torch.cuda.is_available() else \"cpu\")\n",
    "print(f\"Using device: {device}\")\n",
    "\n",
    "# Define a custom model with a new classification head\n",
    "class BinarySentimentModel(nn.Module):\n",
    "    def __init__(self, base_model, num_labels=2):\n",
    "        super(BinarySentimentModel, self).__init__()\n",
    "        self.base_model = base_model\n",
    "        hidden_size = base_model.config.hidden_size\n",
    "        self.dropout = nn.Dropout(0.1)\n",
    "        self.classifier = nn.Linear(hidden_size, num_labels)\n",
    "\n",
    "    def forward(self, input_ids, attention_mask=None, **kwargs):\n",
    "        outputs = self.base_model(input_ids=input_ids, attention_mask=attention_mask)\n",
    "        pooled_output = outputs.last_hidden_state[:, 0, :]\n",
    "        pooled_output = self.dropout(pooled_output)\n",
    "        logits = self.classifier(pooled_output)\n",
    "        return logits\n",
    "\n",
    "# Define dataset class\n",
    "class SentimentDataset(Dataset):\n",
    "    def __init__(self, texts, labels, tokenizer, max_length=512):\n",
    "        self.texts = texts\n",
    "        self.labels = labels\n",
    "        self.tokenizer = tokenizer\n",
    "        self.max_length = max_length\n",
    "\n",
    "    def __len__(self):\n",
    "        return len(self.texts)\n",
    "\n",
    "    def __getitem__(self, idx):\n",
    "        text = str(self.texts[idx])\n",
    "        label = self.labels[idx]\n",
    "        encoding = self.tokenizer(text, return_tensors=\"pt\", truncation=True, padding=\"max_length\", max_length=self.max_length)\n",
    "        return {\n",
    "            'input_ids': encoding['input_ids'].squeeze(0),\n",
    "            'attention_mask': encoding['attention_mask'].squeeze(0),\n",
    "            'labels': torch.tensor(label, dtype=torch.long)\n",
    "        }\n",
    "\n",
    "# Preprocess data\n",
    "df_post_tags['sentiment'] = df_post_tags['sentiment'].str.lower()\n",
    "df_post_tags['label'] = df_post_tags['sentiment'].map({'positive': 1, 'negative': 0})\n",
    "df_post_tags = df_post_tags.dropna(subset=['label'])\n",
    "df_post_tags['label'] = df_post_tags['label'].astype(int)\n",
    "\n",
    "# Split off a fixed validation set (10% of 50k = 5k samples)\n",
    "train_val_df, val_df = train_test_split(df_post_tags, test_size=0.1, random_state=42)\n",
    "val_texts = val_df['review'].tolist()\n",
    "val_labels = val_df['label'].tolist()\n",
    "val_dataset = SentimentDataset(val_texts, val_labels, tokenizer)\n",
    "val_loader = DataLoader(val_dataset, batch_size=16)\n",
    "\n",
    "# Define training sizes to test\n",
    "train_sizes = [100, 250, 500, 1000, 2500, 5000, 10000, 25000]\n",
    "\n",
    "# Store results (accuracy and loss per epoch for each size)\n",
    "results = {size: {'val_loss': [], 'val_acc': []} for size in train_sizes}\n",
    "\n",
    "# Training and evaluation loop for each size\n",
    "for size in train_sizes:\n",
    "    print(f\"\\nTraining with {size} samples...\")\n",
    "    \n",
    "    # Subsample training data\n",
    "    train_df_sample = train_val_df.sample(n=min(size, len(train_val_df)), random_state=42)\n",
    "    train_texts = train_df_sample['review'].tolist()\n",
    "    train_labels = train_df_sample['label'].tolist()\n",
    "    \n",
    "    # Create training dataset and loader\n",
    "    train_dataset = SentimentDataset(train_texts, train_labels, tokenizer)\n",
    "    train_loader = DataLoader(train_dataset, batch_size=64, shuffle=True)\n",
    "    \n",
    "    # Reset model\n",
    "    model = BinarySentimentModel(copy.deepcopy(base_model)).to(device)\n",
    "    optimizer = torch.optim.AdamW(model.parameters(), lr=2e-5)\n",
    "    loss_fn = nn.CrossEntropyLoss()\n",
    "    \n",
    "    # Training loop with validation at each epoch\n",
    "    num_epochs = 3\n",
    "    for epoch in range(num_epochs):\n",
    "        # Training\n",
    "        model.train()\n",
    "        total_train_loss = 0\n",
    "        for batch in train_loader:\n",
    "            input_ids = batch['input_ids'].to(device)\n",
    "            attention_mask = batch['attention_mask'].to(device)\n",
    "            labels = batch['labels'].to(device)\n",
    "\n",
    "            optimizer.zero_grad()\n",
    "            logits = model(input_ids, attention_mask=attention_mask)\n",
    "            loss = loss_fn(logits, labels)\n",
    "            loss.backward()\n",
    "            optimizer.step()\n",
    "            total_train_loss += loss.item()\n",
    "        \n",
    "        avg_train_loss = total_train_loss / len(train_loader)\n",
    "        \n",
    "        # Validation\n",
    "        model.eval()\n",
    "        val_loss = 0\n",
    "        correct = 0\n",
    "        total = 0\n",
    "        with torch.no_grad():\n",
    "            for batch in val_loader:\n",
    "                input_ids = batch['input_ids'].to(device)\n",
    "                attention_mask = batch['attention_mask'].to(device)\n",
    "                labels = batch['labels'].to(device)\n",
    "                logits = model(input_ids, attention_mask=attention_mask)\n",
    "                loss = loss_fn(logits, labels)\n",
    "                val_loss += loss.item()\n",
    "                preds = torch.argmax(logits, dim=-1)\n",
    "                correct += (preds == labels).sum().item()\n",
    "                total += labels.size(0)\n",
    "        \n",
    "        avg_val_loss = val_loss / len(val_loader)\n",
    "        accuracy = correct / total\n",
    "        \n",
    "        # Store results\n",
    "        results[size]['val_loss'].append(avg_val_loss)\n",
    "        results[size]['val_acc'].append(accuracy)\n",
    "        \n",
    "        print(f\"Epoch {epoch + 1} | Train Loss: {avg_train_loss:.4f} | Val Loss: {avg_val_loss:.4f} | Val Accuracy: {accuracy:.4f}\")\n",
    "\n",
    "# Print final results\n",
    "print(\"\\nFinal Results:\")\n",
    "for size in train_sizes:\n",
    "    print(f\"Training Size: {size}\")\n",
    "    for epoch in range(num_epochs):\n",
    "        print(f\"  Epoch {epoch + 1} - Val Loss: {results[size]['val_loss'][epoch]:.4f}, Val Accuracy: {results[size]['val_acc'][epoch]:.4f}\")\n",
    "\n",
    "# Optional: Plot results\n",
    "plt.figure(figsize=(12, 5))\n",
    "\n",
    "# Plot Validation Loss\n",
    "plt.subplot(1, 2, 1)\n",
    "for size in train_sizes:\n",
    "    plt.plot(range(1, num_epochs + 1), results[size]['val_loss'], marker='o', label=f\"Size {size}\")\n",
    "plt.xlabel(\"Epoch\")\n",
    "plt.ylabel(\"Validation Loss\")\n",
    "plt.title(\"Validation Loss vs. Epoch\")\n",
    "plt.legend()\n",
    "plt.grid(True)\n",
    "\n",
    "# Plot Validation Accuracy\n",
    "plt.subplot(1, 2, 2)\n",
    "for size in train_sizes:\n",
    "    plt.plot(range(1, num_epochs + 1), results[size]['val_acc'], marker='o', label=f\"Size {size}\")\n",
    "plt.xlabel(\"Epoch\")\n",
    "plt.ylabel(\"Validation Accuracy\")\n",
    "plt.title(\"Validation Accuracy vs. Epoch\")\n",
    "plt.legend()\n",
    "plt.grid(True)\n",
    "\n",
    "plt.tight_layout()\n",
    "plt.show()"
   ]
  },
  {
   "cell_type": "code",
   "execution_count": 20,
   "id": "a9b80fef-6736-44a0-8dca-bdc0dee15b9f",
   "metadata": {},
   "outputs": [
    {
     "name": "stdout",
     "output_type": "stream",
     "text": [
      "Using device: cuda\n"
     ]
    },
    {
     "name": "stderr",
     "output_type": "stream",
     "text": [
      "Token indices sequence length is longer than the specified maximum sequence length for this model (566 > 512). Running this sequence through the model will result in indexing errors\n"
     ]
    },
    {
     "name": "stdout",
     "output_type": "stream",
     "text": [
      "Using device: cuda\n",
      "Review Length Analysis (in tokens):\n",
      "  Total Reviews: 49582\n",
      "  Maximum Token Length: 3295\n",
      "  Median Token Length: 238\n",
      "  90th Percentile Token Length: 623\n"
     ]
    }
   ],
   "source": [
    "from transformers import AutoTokenizer, AutoModel\n",
    "import torch\n",
    "import torch.nn as nn\n",
    "import pandas as pd\n",
    "from torch.utils.data import Dataset, DataLoader\n",
    "from sklearn.model_selection import train_test_split\n",
    "import copy\n",
    "import matplotlib.pyplot as plt\n",
    "\n",
    "# Define the model name\n",
    "model_name = \"tabularisai/multilingual-sentiment-analysis\"\n",
    "\n",
    "# Load the tokenizer\n",
    "tokenizer = AutoTokenizer.from_pretrained(model_name)\n",
    "\n",
    "# Load the base model\n",
    "base_model = AutoModel.from_pretrained(model_name)\n",
    "\n",
    "# Check if a GPU is available and set the device\n",
    "device = torch.device(\"cuda\" if torch.cuda.is_available() else \"cpu\")\n",
    "print(f\"Using device: {device}\")\n",
    "\n",
    "from transformers import AutoTokenizer, AutoModel\n",
    "import torch\n",
    "import torch.nn as nn\n",
    "import pandas as pd\n",
    "from torch.utils.data import Dataset, DataLoader\n",
    "from sklearn.model_selection import train_test_split\n",
    "import copy\n",
    "import matplotlib.pyplot as plt\n",
    "import numpy as np\n",
    "\n",
    "# Define the model name\n",
    "model_name = \"tabularisai/multilingual-sentiment-analysis\"\n",
    "\n",
    "# Load the tokenizer\n",
    "tokenizer = AutoTokenizer.from_pretrained(model_name)\n",
    "\n",
    "# Load the base model\n",
    "base_model = AutoModel.from_pretrained(model_name)\n",
    "\n",
    "# Check if a GPU is available and set the device\n",
    "device = torch.device(\"cuda\" if torch.cuda.is_available() else \"cpu\")\n",
    "print(f\"Using device: {device}\")\n",
    "\n",
    "# Preprocess data\n",
    "df_post_tags['sentiment'] = df_post_tags['sentiment'].str.lower()\n",
    "df_post_tags['label'] = df_post_tags['sentiment'].map({'positive': 1, 'negative': 0})\n",
    "df_post_tags = df_post_tags.dropna(subset=['label'])\n",
    "df_post_tags['label'] = df_post_tags['label'].astype(int)\n",
    "\n",
    "# Analyze review lengths in terms of tokens\n",
    "def get_token_lengths(texts, tokenizer):\n",
    "    token_lengths = []\n",
    "    for text in texts:\n",
    "        tokens = tokenizer(text, truncation=False, return_tensors=\"pt\", add_special_tokens=True)['input_ids'][0]\n",
    "        token_lengths.append(len(tokens))\n",
    "    return token_lengths\n",
    "\n",
    "# Compute token lengths for the 'review' column\n",
    "review_texts = df_post_tags['review'].tolist()\n",
    "token_lengths = get_token_lengths(review_texts, tokenizer)\n",
    "\n",
    "# Calculate max, median, and other stats\n",
    "max_length = max(token_lengths)\n",
    "median_length = int(np.median(token_lengths))\n",
    "total_reviews = len(token_lengths)\n",
    "\n",
    "print(f\"Review Length Analysis (in tokens):\")\n",
    "print(f\"  Total Reviews: {total_reviews}\")\n",
    "print(f\"  Maximum Token Length: {max_length}\")\n",
    "print(f\"  Median Token Length: {median_length}\")\n",
    "\n",
    "# Optional: Additional stats for deeper insight\n",
    "percentile_90 = int(np.percentile(token_lengths, 90))\n",
    "print(f\"  90th Percentile Token Length: {percentile_90}\")"
   ]
  },
  {
   "cell_type": "code",
   "execution_count": 16,
   "id": "72225b25-70c7-4dd5-af6d-98fc059b0d61",
   "metadata": {},
   "outputs": [],
   "source": [
    "# df_post_tags['correct'] = df_post_tags['sentiment'].str.lower() == df_post_tags['sentiment_pred'].str.lower()\n",
    "\n",
    "# # Calculate accuracy\n",
    "# accuracy = df_post_tags['correct'].mean()\n",
    "\n",
    "# print(f\"Accuracy: {accuracy:.2%}\")"
   ]
  },
  {
   "cell_type": "code",
   "execution_count": 17,
   "id": "2f2cfb714df34d59",
   "metadata": {
    "jupyter": {
     "is_executing": true
    }
   },
   "outputs": [],
   "source": [
    "# df_post_tags['sentiment'] = predict_sentiment(df_post_tags['review'].tolist())\n",
    "# sentiment_counts = df_post_tags['sentiment'].value_counts()\n",
    "# print(sentiment_counts)\n"
   ]
  },
  {
   "cell_type": "code",
   "execution_count": 18,
   "id": "495ee8ae-e2b2-4d49-996f-c33e233b36e2",
   "metadata": {},
   "outputs": [
    {
     "data": {
      "text/html": [
       "<div>\n",
       "<style scoped>\n",
       "    .dataframe tbody tr th:only-of-type {\n",
       "        vertical-align: middle;\n",
       "    }\n",
       "\n",
       "    .dataframe tbody tr th {\n",
       "        vertical-align: top;\n",
       "    }\n",
       "\n",
       "    .dataframe thead th {\n",
       "        text-align: right;\n",
       "    }\n",
       "</style>\n",
       "<table border=\"1\" class=\"dataframe\">\n",
       "  <thead>\n",
       "    <tr style=\"text-align: right;\">\n",
       "      <th></th>\n",
       "      <th>review</th>\n",
       "      <th>sentiment</th>\n",
       "      <th>label</th>\n",
       "    </tr>\n",
       "  </thead>\n",
       "  <tbody>\n",
       "    <tr>\n",
       "      <th>0</th>\n",
       "      <td>One of the other reviewers has mentioned that ...</td>\n",
       "      <td>positive</td>\n",
       "      <td>1</td>\n",
       "    </tr>\n",
       "    <tr>\n",
       "      <th>1</th>\n",
       "      <td>A wonderful little production. The filming tec...</td>\n",
       "      <td>positive</td>\n",
       "      <td>1</td>\n",
       "    </tr>\n",
       "    <tr>\n",
       "      <th>2</th>\n",
       "      <td>I thought this was a wonderful way to spend ti...</td>\n",
       "      <td>positive</td>\n",
       "      <td>1</td>\n",
       "    </tr>\n",
       "    <tr>\n",
       "      <th>3</th>\n",
       "      <td>Basically there's a family where a little boy ...</td>\n",
       "      <td>negative</td>\n",
       "      <td>0</td>\n",
       "    </tr>\n",
       "    <tr>\n",
       "      <th>4</th>\n",
       "      <td>Petter Mattei's \"Love in the Time of Money\" is...</td>\n",
       "      <td>positive</td>\n",
       "      <td>1</td>\n",
       "    </tr>\n",
       "    <tr>\n",
       "      <th>...</th>\n",
       "      <td>...</td>\n",
       "      <td>...</td>\n",
       "      <td>...</td>\n",
       "    </tr>\n",
       "    <tr>\n",
       "      <th>49995</th>\n",
       "      <td>I thought this movie did a down right good job...</td>\n",
       "      <td>positive</td>\n",
       "      <td>1</td>\n",
       "    </tr>\n",
       "    <tr>\n",
       "      <th>49996</th>\n",
       "      <td>Bad plot, bad dialogue, bad acting, idiotic di...</td>\n",
       "      <td>negative</td>\n",
       "      <td>0</td>\n",
       "    </tr>\n",
       "    <tr>\n",
       "      <th>49997</th>\n",
       "      <td>I am a Catholic taught in parochial elementary...</td>\n",
       "      <td>negative</td>\n",
       "      <td>0</td>\n",
       "    </tr>\n",
       "    <tr>\n",
       "      <th>49998</th>\n",
       "      <td>I'm going to have to disagree with the previou...</td>\n",
       "      <td>negative</td>\n",
       "      <td>0</td>\n",
       "    </tr>\n",
       "    <tr>\n",
       "      <th>49999</th>\n",
       "      <td>No one expects the Star Trek movies to be high...</td>\n",
       "      <td>negative</td>\n",
       "      <td>0</td>\n",
       "    </tr>\n",
       "  </tbody>\n",
       "</table>\n",
       "<p>49582 rows × 3 columns</p>\n",
       "</div>"
      ],
      "text/plain": [
       "                                                  review sentiment  label\n",
       "0      One of the other reviewers has mentioned that ...  positive      1\n",
       "1      A wonderful little production. The filming tec...  positive      1\n",
       "2      I thought this was a wonderful way to spend ti...  positive      1\n",
       "3      Basically there's a family where a little boy ...  negative      0\n",
       "4      Petter Mattei's \"Love in the Time of Money\" is...  positive      1\n",
       "...                                                  ...       ...    ...\n",
       "49995  I thought this movie did a down right good job...  positive      1\n",
       "49996  Bad plot, bad dialogue, bad acting, idiotic di...  negative      0\n",
       "49997  I am a Catholic taught in parochial elementary...  negative      0\n",
       "49998  I'm going to have to disagree with the previou...  negative      0\n",
       "49999  No one expects the Star Trek movies to be high...  negative      0\n",
       "\n",
       "[49582 rows x 3 columns]"
      ]
     },
     "execution_count": 18,
     "metadata": {},
     "output_type": "execute_result"
    }
   ],
   "source": [
    "df_post_tags"
   ]
  },
  {
   "cell_type": "code",
   "execution_count": null,
   "id": "b9829455-25c4-4895-a2ac-86a9a5ce1d59",
   "metadata": {},
   "outputs": [],
   "source": []
  }
 ],
 "metadata": {
  "kernelspec": {
   "display_name": "my_env",
   "language": "python",
   "name": "my_env"
  },
  "language_info": {
   "codemirror_mode": {
    "name": "ipython",
    "version": 3
   },
   "file_extension": ".py",
   "mimetype": "text/x-python",
   "name": "python",
   "nbconvert_exporter": "python",
   "pygments_lexer": "ipython3",
   "version": "3.11.11"
  }
 },
 "nbformat": 4,
 "nbformat_minor": 5
}
